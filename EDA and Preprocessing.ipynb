{
 "cells": [
  {
   "cell_type": "code",
   "execution_count": 329,
   "id": "93941657-ba87-437a-9597-e03b0c1887b5",
   "metadata": {},
   "outputs": [],
   "source": [
    "import pandas as pd\n",
    "import numpy as np\n",
    "import matplotlib.pyplot as plt\n",
    "import seaborn as sns\n",
    "from sklearn.preprocessing import StandardScaler, MinMaxScaler,LabelEncoder, OneHotEncoder"
   ]
  },
  {
   "cell_type": "code",
   "execution_count": 330,
   "id": "62d3fe52-5ebf-4dec-be29-e3fd6958fa2b",
   "metadata": {},
   "outputs": [
    {
     "data": {
      "text/html": [
       "<div>\n",
       "<style scoped>\n",
       "    .dataframe tbody tr th:only-of-type {\n",
       "        vertical-align: middle;\n",
       "    }\n",
       "\n",
       "    .dataframe tbody tr th {\n",
       "        vertical-align: top;\n",
       "    }\n",
       "\n",
       "    .dataframe thead th {\n",
       "        text-align: right;\n",
       "    }\n",
       "</style>\n",
       "<table border=\"1\" class=\"dataframe\">\n",
       "  <thead>\n",
       "    <tr style=\"text-align: right;\">\n",
       "      <th></th>\n",
       "      <th>Company</th>\n",
       "      <th>Age</th>\n",
       "      <th>Salary</th>\n",
       "      <th>Place</th>\n",
       "      <th>Country</th>\n",
       "      <th>Gender</th>\n",
       "    </tr>\n",
       "  </thead>\n",
       "  <tbody>\n",
       "    <tr>\n",
       "      <th>0</th>\n",
       "      <td>TCS</td>\n",
       "      <td>20.0</td>\n",
       "      <td>NaN</td>\n",
       "      <td>Chennai</td>\n",
       "      <td>India</td>\n",
       "      <td>0</td>\n",
       "    </tr>\n",
       "    <tr>\n",
       "      <th>1</th>\n",
       "      <td>Infosys</td>\n",
       "      <td>30.0</td>\n",
       "      <td>NaN</td>\n",
       "      <td>Mumbai</td>\n",
       "      <td>India</td>\n",
       "      <td>0</td>\n",
       "    </tr>\n",
       "    <tr>\n",
       "      <th>2</th>\n",
       "      <td>TCS</td>\n",
       "      <td>35.0</td>\n",
       "      <td>2300.0</td>\n",
       "      <td>Calcutta</td>\n",
       "      <td>India</td>\n",
       "      <td>0</td>\n",
       "    </tr>\n",
       "    <tr>\n",
       "      <th>3</th>\n",
       "      <td>Infosys</td>\n",
       "      <td>40.0</td>\n",
       "      <td>3000.0</td>\n",
       "      <td>Delhi</td>\n",
       "      <td>India</td>\n",
       "      <td>0</td>\n",
       "    </tr>\n",
       "    <tr>\n",
       "      <th>4</th>\n",
       "      <td>TCS</td>\n",
       "      <td>23.0</td>\n",
       "      <td>4000.0</td>\n",
       "      <td>Mumbai</td>\n",
       "      <td>India</td>\n",
       "      <td>0</td>\n",
       "    </tr>\n",
       "    <tr>\n",
       "      <th>...</th>\n",
       "      <td>...</td>\n",
       "      <td>...</td>\n",
       "      <td>...</td>\n",
       "      <td>...</td>\n",
       "      <td>...</td>\n",
       "      <td>...</td>\n",
       "    </tr>\n",
       "    <tr>\n",
       "      <th>143</th>\n",
       "      <td>TCS</td>\n",
       "      <td>33.0</td>\n",
       "      <td>9024.0</td>\n",
       "      <td>Calcutta</td>\n",
       "      <td>India</td>\n",
       "      <td>1</td>\n",
       "    </tr>\n",
       "    <tr>\n",
       "      <th>144</th>\n",
       "      <td>Infosys</td>\n",
       "      <td>22.0</td>\n",
       "      <td>8787.0</td>\n",
       "      <td>Calcutta</td>\n",
       "      <td>India</td>\n",
       "      <td>1</td>\n",
       "    </tr>\n",
       "    <tr>\n",
       "      <th>145</th>\n",
       "      <td>Infosys</td>\n",
       "      <td>44.0</td>\n",
       "      <td>4034.0</td>\n",
       "      <td>Delhi</td>\n",
       "      <td>India</td>\n",
       "      <td>1</td>\n",
       "    </tr>\n",
       "    <tr>\n",
       "      <th>146</th>\n",
       "      <td>TCS</td>\n",
       "      <td>33.0</td>\n",
       "      <td>5034.0</td>\n",
       "      <td>Mumbai</td>\n",
       "      <td>India</td>\n",
       "      <td>1</td>\n",
       "    </tr>\n",
       "    <tr>\n",
       "      <th>147</th>\n",
       "      <td>Infosys</td>\n",
       "      <td>22.0</td>\n",
       "      <td>8202.0</td>\n",
       "      <td>Cochin</td>\n",
       "      <td>India</td>\n",
       "      <td>0</td>\n",
       "    </tr>\n",
       "  </tbody>\n",
       "</table>\n",
       "<p>148 rows × 6 columns</p>\n",
       "</div>"
      ],
      "text/plain": [
       "     Company   Age  Salary     Place Country  Gender\n",
       "0        TCS  20.0     NaN   Chennai   India       0\n",
       "1    Infosys  30.0     NaN    Mumbai   India       0\n",
       "2        TCS  35.0  2300.0  Calcutta   India       0\n",
       "3    Infosys  40.0  3000.0     Delhi   India       0\n",
       "4        TCS  23.0  4000.0    Mumbai   India       0\n",
       "..       ...   ...     ...       ...     ...     ...\n",
       "143      TCS  33.0  9024.0  Calcutta   India       1\n",
       "144  Infosys  22.0  8787.0  Calcutta   India       1\n",
       "145  Infosys  44.0  4034.0     Delhi   India       1\n",
       "146      TCS  33.0  5034.0    Mumbai   India       1\n",
       "147  Infosys  22.0  8202.0    Cochin   India       0\n",
       "\n",
       "[148 rows x 6 columns]"
      ]
     },
     "execution_count": 330,
     "metadata": {},
     "output_type": "execute_result"
    }
   ],
   "source": [
    "#load data\n",
    "data=pd.read_csv('Employee.csv')\n",
    "data"
   ]
  },
  {
   "cell_type": "code",
   "execution_count": 331,
   "id": "f5908960-f81b-4478-95df-03432f60c020",
   "metadata": {},
   "outputs": [
    {
     "name": "stdout",
     "output_type": "stream",
     "text": [
      "<class 'pandas.core.frame.DataFrame'>\n",
      "RangeIndex: 148 entries, 0 to 147\n",
      "Data columns (total 6 columns):\n",
      " #   Column   Non-Null Count  Dtype  \n",
      "---  ------   --------------  -----  \n",
      " 0   Company  140 non-null    object \n",
      " 1   Age      130 non-null    float64\n",
      " 2   Salary   124 non-null    float64\n",
      " 3   Place    134 non-null    object \n",
      " 4   Country  148 non-null    object \n",
      " 5   Gender   148 non-null    int64  \n",
      "dtypes: float64(2), int64(1), object(3)\n",
      "memory usage: 7.1+ KB\n"
     ]
    }
   ],
   "source": [
    "data_info=data.info()\n",
    "data_head=data.head(10)"
   ]
  },
  {
   "cell_type": "code",
   "execution_count": 332,
   "id": "9223da59-75eb-4c3a-a607-f95f257908fc",
   "metadata": {},
   "outputs": [
    {
     "name": "stdout",
     "output_type": "stream",
     "text": [
      "Unique values in 'Company': ['TCS' 'Infosys' 'CTS' nan 'Tata Consultancy Services' 'Congnizant'\n",
      " 'Infosys Pvt Lmt'] (Count:7)\n",
      "Unique values in 'Age': [20. 30. 35. 40. 23. nan 34. 45. 18. 22. 32. 37. 50. 21. 46. 36. 26. 41.\n",
      " 24. 25. 43. 19. 38. 51. 31. 44. 33. 17.  0. 54.] (Count:30)\n",
      "Unique values in 'Salary': [  nan 2300. 3000. 4000. 5000. 6000. 7000. 8000. 9000. 1089. 1234. 3030.\n",
      " 3045. 3184. 4824. 5835. 7084. 8943. 8345. 9284. 9876. 2034. 7654. 2934.\n",
      " 4034. 5034. 8202. 9024. 4345. 6544. 6543. 3234. 4324. 5435. 5555. 8787.\n",
      " 3454. 5654. 5009. 5098. 3033.] (Count:41)\n",
      "Unique values in 'Place': ['Chennai' 'Mumbai' 'Calcutta' 'Delhi' 'Podicherry' 'Cochin' nan 'Noida'\n",
      " 'Hyderabad' 'Bhopal' 'Nagpur' 'Pune'] (Count:12)\n",
      "Unique values in 'Country': ['India'] (Count:1)\n",
      "Unique values in 'Gender': [0 1] (Count:2)\n"
     ]
    }
   ],
   "source": [
    "#Display unique values and their counts\n",
    "for column in data.columns:\n",
    "    unique_values=data[column].unique()\n",
    "    print(f\"Unique values in '{column}': {unique_values} (Count:{len(unique_values)})\")"
   ]
  },
  {
   "cell_type": "code",
   "execution_count": 333,
   "id": "d6fcf0d6-a667-4062-9020-d36e8b30649c",
   "metadata": {},
   "outputs": [
    {
     "name": "stdout",
     "output_type": "stream",
     "text": [
      "              Age       Salary      Gender\n",
      "count  130.000000   124.000000  148.000000\n",
      "mean    30.484615  5312.467742    0.222973\n",
      "std     11.096640  2573.764683    0.417654\n",
      "min      0.000000  1089.000000    0.000000\n",
      "25%     22.000000  3030.000000    0.000000\n",
      "50%     32.500000  5000.000000    0.000000\n",
      "75%     37.750000  8000.000000    0.000000\n",
      "max     54.000000  9876.000000    1.000000\n"
     ]
    }
   ],
   "source": [
    "#statistical analysis\n",
    "print(data.describe())"
   ]
  },
  {
   "cell_type": "code",
   "execution_count": 334,
   "id": "d95a486d-a046-4d2b-ad19-0f82c5d96924",
   "metadata": {},
   "outputs": [],
   "source": [
    "#renaming columns\n",
    "data.rename(columns={'Company':'Organization',\n",
    "                    'Age':'Employee_Age',\n",
    "                    'Salary':'Employee_Salary',\n",
    "                    'Place':'Location'}, inplace=True)"
   ]
  },
  {
   "cell_type": "code",
   "execution_count": 335,
   "id": "02b6ad0d-d87e-49e6-9ac6-afec1d7c2e94",
   "metadata": {},
   "outputs": [
    {
     "data": {
      "text/html": [
       "<div>\n",
       "<style scoped>\n",
       "    .dataframe tbody tr th:only-of-type {\n",
       "        vertical-align: middle;\n",
       "    }\n",
       "\n",
       "    .dataframe tbody tr th {\n",
       "        vertical-align: top;\n",
       "    }\n",
       "\n",
       "    .dataframe thead th {\n",
       "        text-align: right;\n",
       "    }\n",
       "</style>\n",
       "<table border=\"1\" class=\"dataframe\">\n",
       "  <thead>\n",
       "    <tr style=\"text-align: right;\">\n",
       "      <th></th>\n",
       "      <th>Organization</th>\n",
       "      <th>Employee_Age</th>\n",
       "      <th>Employee_Salary</th>\n",
       "      <th>Location</th>\n",
       "      <th>Country</th>\n",
       "      <th>Gender</th>\n",
       "    </tr>\n",
       "  </thead>\n",
       "  <tbody>\n",
       "    <tr>\n",
       "      <th>0</th>\n",
       "      <td>TCS</td>\n",
       "      <td>20.0</td>\n",
       "      <td>NaN</td>\n",
       "      <td>Chennai</td>\n",
       "      <td>India</td>\n",
       "      <td>0</td>\n",
       "    </tr>\n",
       "    <tr>\n",
       "      <th>1</th>\n",
       "      <td>Infosys</td>\n",
       "      <td>30.0</td>\n",
       "      <td>NaN</td>\n",
       "      <td>Mumbai</td>\n",
       "      <td>India</td>\n",
       "      <td>0</td>\n",
       "    </tr>\n",
       "    <tr>\n",
       "      <th>2</th>\n",
       "      <td>TCS</td>\n",
       "      <td>35.0</td>\n",
       "      <td>2300.0</td>\n",
       "      <td>Calcutta</td>\n",
       "      <td>India</td>\n",
       "      <td>0</td>\n",
       "    </tr>\n",
       "    <tr>\n",
       "      <th>3</th>\n",
       "      <td>Infosys</td>\n",
       "      <td>40.0</td>\n",
       "      <td>3000.0</td>\n",
       "      <td>Delhi</td>\n",
       "      <td>India</td>\n",
       "      <td>0</td>\n",
       "    </tr>\n",
       "    <tr>\n",
       "      <th>4</th>\n",
       "      <td>TCS</td>\n",
       "      <td>23.0</td>\n",
       "      <td>4000.0</td>\n",
       "      <td>Mumbai</td>\n",
       "      <td>India</td>\n",
       "      <td>0</td>\n",
       "    </tr>\n",
       "    <tr>\n",
       "      <th>...</th>\n",
       "      <td>...</td>\n",
       "      <td>...</td>\n",
       "      <td>...</td>\n",
       "      <td>...</td>\n",
       "      <td>...</td>\n",
       "      <td>...</td>\n",
       "    </tr>\n",
       "    <tr>\n",
       "      <th>143</th>\n",
       "      <td>TCS</td>\n",
       "      <td>33.0</td>\n",
       "      <td>9024.0</td>\n",
       "      <td>Calcutta</td>\n",
       "      <td>India</td>\n",
       "      <td>1</td>\n",
       "    </tr>\n",
       "    <tr>\n",
       "      <th>144</th>\n",
       "      <td>Infosys</td>\n",
       "      <td>22.0</td>\n",
       "      <td>8787.0</td>\n",
       "      <td>Calcutta</td>\n",
       "      <td>India</td>\n",
       "      <td>1</td>\n",
       "    </tr>\n",
       "    <tr>\n",
       "      <th>145</th>\n",
       "      <td>Infosys</td>\n",
       "      <td>44.0</td>\n",
       "      <td>4034.0</td>\n",
       "      <td>Delhi</td>\n",
       "      <td>India</td>\n",
       "      <td>1</td>\n",
       "    </tr>\n",
       "    <tr>\n",
       "      <th>146</th>\n",
       "      <td>TCS</td>\n",
       "      <td>33.0</td>\n",
       "      <td>5034.0</td>\n",
       "      <td>Mumbai</td>\n",
       "      <td>India</td>\n",
       "      <td>1</td>\n",
       "    </tr>\n",
       "    <tr>\n",
       "      <th>147</th>\n",
       "      <td>Infosys</td>\n",
       "      <td>22.0</td>\n",
       "      <td>8202.0</td>\n",
       "      <td>Cochin</td>\n",
       "      <td>India</td>\n",
       "      <td>0</td>\n",
       "    </tr>\n",
       "  </tbody>\n",
       "</table>\n",
       "<p>148 rows × 6 columns</p>\n",
       "</div>"
      ],
      "text/plain": [
       "    Organization  Employee_Age  Employee_Salary  Location Country  Gender\n",
       "0            TCS          20.0              NaN   Chennai   India       0\n",
       "1        Infosys          30.0              NaN    Mumbai   India       0\n",
       "2            TCS          35.0           2300.0  Calcutta   India       0\n",
       "3        Infosys          40.0           3000.0     Delhi   India       0\n",
       "4            TCS          23.0           4000.0    Mumbai   India       0\n",
       "..           ...           ...              ...       ...     ...     ...\n",
       "143          TCS          33.0           9024.0  Calcutta   India       1\n",
       "144      Infosys          22.0           8787.0  Calcutta   India       1\n",
       "145      Infosys          44.0           4034.0     Delhi   India       1\n",
       "146          TCS          33.0           5034.0    Mumbai   India       1\n",
       "147      Infosys          22.0           8202.0    Cochin   India       0\n",
       "\n",
       "[148 rows x 6 columns]"
      ]
     },
     "execution_count": 335,
     "metadata": {},
     "output_type": "execute_result"
    }
   ],
   "source": [
    "data"
   ]
  },
  {
   "cell_type": "code",
   "execution_count": 336,
   "id": "4f6bee10-5f8f-443d-afb7-a6eadd5e1358",
   "metadata": {},
   "outputs": [],
   "source": [
    "#remove duplicates\n",
    "data.drop_duplicates(inplace=True)"
   ]
  },
  {
   "cell_type": "code",
   "execution_count": 337,
   "id": "8c554025-6597-4b15-81c6-353d020ffa77",
   "metadata": {},
   "outputs": [
    {
     "data": {
      "image/png": "[encoded data removed]",
      "text/plain": [
       "<Figure size 640x480 with 1 Axes>"
      ]
     },
     "metadata": {},
     "output_type": "display_data"
    }
   ],
   "source": [
    "#find ouliners\n",
    "sns.boxplot(data=data)\n",
    "plt.show()"
   ]
  },
  {
   "cell_type": "code",
   "execution_count": 338,
   "id": "c55a4645-3c0b-47a7-9141-e8d34036c13c",
   "metadata": {},
   "outputs": [
    {
     "name": "stderr",
     "output_type": "stream",
     "text": [
      "C:\\Users\\arunv\\AppData\\Local\\Temp\\ipykernel_8992\\3504397519.py:2: FutureWarning: A value is trying to be set on a copy of a DataFrame or Series through chained assignment using an inplace method.\n",
      "The behavior will change in pandas 3.0. This inplace method will never work because the intermediate object on which we are setting values always behaves as a copy.\n",
      "\n",
      "For example, when doing 'df[col].method(value, inplace=True)', try using 'df.method({col: value}, inplace=True)' or df[col] = df[col].method(value) instead, to perform the operation inplace on the original object.\n",
      "\n",
      "\n",
      "  data['Employee_Age'].replace(0,pd.NA, inplace=True)\n"
     ]
    },
    {
     "data": {
      "text/plain": [
       "0    20.0\n",
       "1    30.0\n",
       "2    35.0\n",
       "3    40.0\n",
       "4    23.0\n",
       "5     NaN\n",
       "6     NaN\n",
       "7    23.0\n",
       "8    34.0\n",
       "9    45.0\n",
       "Name: Employee_Age, dtype: object"
      ]
     },
     "execution_count": 338,
     "metadata": {},
     "output_type": "execute_result"
    }
   ],
   "source": [
    "#replace 0 with Nan\n",
    "data['Employee_Age'].replace(0,pd.NA, inplace=True)\n",
    "data['Employee_Age'].head(10)"
   ]
  },
  {
   "cell_type": "code",
   "execution_count": 339,
   "id": "65c0cea5-abb3-4724-93f4-5db508371259",
   "metadata": {},
   "outputs": [
    {
     "name": "stdout",
     "output_type": "stream",
     "text": [
      "        Organization  Employee_Age  Employee_Salary  Location Country  Gender\n",
      "0                TCS          20.0      5283.471074   Chennai   India       0\n",
      "1            Infosys          30.0      5283.471074    Mumbai   India       0\n",
      "2                TCS          35.0      2300.000000  Calcutta   India       0\n",
      "3            Infosys          40.0      3000.000000     Delhi   India       0\n",
      "4                TCS          23.0      4000.000000    Mumbai   India       0\n",
      "..               ...           ...              ...       ...     ...     ...\n",
      "142  Infosys Pvt Lmt          22.0      8202.000000    Mumbai   India       0\n",
      "143              TCS          33.0      9024.000000  Calcutta   India       1\n",
      "145          Infosys          44.0      4034.000000     Delhi   India       1\n",
      "146              TCS          33.0      5034.000000    Mumbai   India       1\n",
      "147          Infosys          22.0      8202.000000    Cochin   India       0\n",
      "\n",
      "[144 rows x 6 columns]\n"
     ]
    },
    {
     "name": "stderr",
     "output_type": "stream",
     "text": [
      "C:\\Users\\arunv\\AppData\\Local\\Temp\\ipykernel_8992\\1960184794.py:5: FutureWarning: Downcasting object dtype arrays on .fillna, .ffill, .bfill is deprecated and will change in a future version. Call result.infer_objects(copy=False) instead. To opt-in to the future behavior, set `pd.set_option('future.no_silent_downcasting', True)`\n",
      "  data[non_numeric_columns]=data[non_numeric_columns].fillna(data[non_numeric_columns].mode().iloc[0])\n"
     ]
    }
   ],
   "source": [
    "#replace null value with mean\n",
    "numeric_columns=data.select_dtypes(include=['number']).columns\n",
    "data[numeric_columns]=data[numeric_columns].fillna(data[numeric_columns].mean())\n",
    "non_numeric_columns=data.select_dtypes(exclude=['number']).columns\n",
    "data[non_numeric_columns]=data[non_numeric_columns].fillna(data[non_numeric_columns].mode().iloc[0])\n",
    "print(data)"
   ]
  },
  {
   "cell_type": "code",
   "execution_count": 340,
   "id": "723a22da-ccb3-4ddd-bd07-64b6192e49ba",
   "metadata": {},
   "outputs": [
    {
     "name": "stdout",
     "output_type": "stream",
     "text": [
      "    Organization  Employee_Age  Employee_Salary   Location Country  Gender\n",
      "21       Infosys          50.0           3184.0      Delhi   India       0\n",
      "32       Infosys          45.0           4034.0   Calcutta   India       0\n",
      "39       Infosys          41.0           3000.0     Mumbai   India       0\n",
      "50       Infosys          41.0           3000.0    Chennai   India       0\n",
      "57       Infosys          51.0           3184.0  Hyderabad   India       0\n",
      "68       Infosys          43.0           4034.0     Mumbai   India       0\n",
      "75       Infosys          44.0           3000.0     Cochin   India       0\n",
      "86       Infosys          41.0           3000.0      Delhi   India       0\n",
      "93       Infosys          54.0           3184.0     Mumbai   India       0\n",
      "104      Infosys          44.0           4034.0      Delhi   India       0\n",
      "122      Infosys          44.0           3234.0     Mumbai   India       0\n",
      "129      Infosys          50.0           3184.0   Calcutta   India       0\n",
      "138          CTS          44.0           3033.0     Cochin   India       0\n",
      "140      Infosys          44.0           4034.0  Hyderabad   India       0\n",
      "145      Infosys          44.0           4034.0      Delhi   India       1\n"
     ]
    }
   ],
   "source": [
    "#filter data with age >40 and salary<5000\n",
    "filtered_data=data[(data['Employee_Age']>40)&(data['Employee_Salary']<5000)]\n",
    "print(filtered_data)"
   ]
  },
  {
   "cell_type": "code",
   "execution_count": 341,
   "id": "293e0b8e-b4fc-49c1-97ac-e3fcebcdedac",
   "metadata": {},
   "outputs": [
    {
     "data": {
      "image/png": "[encoded data removed]",
      "text/plain": [
       "<Figure size 640x480 with 1 Axes>"
      ]
     },
     "metadata": {},
     "output_type": "display_data"
    }
   ],
   "source": [
    "#Plot the chart with age and salary\n",
    "plt.scatter(filtered_data['Employee_Age'],filtered_data['Employee_Salary'])\n",
    "plt.xlabel('Employee_Age')\n",
    "plt.ylabel('Employee_Salary')\n",
    "plt.title('Employee_Age VS Employee_Salary')\n",
    "plt.show()"
   ]
  },
  {
   "cell_type": "code",
   "execution_count": 342,
   "id": "450c384b-0312-448a-b2c1-b6236128b56e",
   "metadata": {},
   "outputs": [
    {
     "data": {
      "image/png": "[encoded data removed]",
      "text/plain": [
       "<Figure size 640x480 with 1 Axes>"
      ]
     },
     "metadata": {},
     "output_type": "display_data"
    }
   ],
   "source": [
    "#Count the number of people from each place and represent it visually\n",
    "place_counts=data['Location'].value_counts()\n",
    "place_counts.plot(kind='bar')\n",
    "plt.xlabel('Location')\n",
    "plt.ylabel('Count')\n",
    "plt.show()"
   ]
  },
  {
   "cell_type": "code",
   "execution_count": 343,
   "id": "e266c214-f9a3-4162-a0da-b7cf004514b8",
   "metadata": {},
   "outputs": [
    {
     "name": "stdout",
     "output_type": "stream",
     "text": [
      "Data after One-Hot and Label Encoding:\n",
      "   Employee_Age  Employee_Salary  Gender  Organization_Congnizant  \\\n",
      "0          20.0      5283.471074       0                    False   \n",
      "1          30.0      5283.471074       0                    False   \n",
      "2          35.0      2300.000000       0                    False   \n",
      "3          40.0      3000.000000       0                    False   \n",
      "4          23.0      4000.000000       0                    False   \n",
      "\n",
      "   Organization_Infosys  Organization_Infosys Pvt Lmt  Organization_TCS  \\\n",
      "0                 False                         False              True   \n",
      "1                  True                         False             False   \n",
      "2                 False                         False              True   \n",
      "3                  True                         False             False   \n",
      "4                 False                         False              True   \n",
      "\n",
      "   Organization_Tata Consultancy Services  Location_Calcutta  \\\n",
      "0                                   False              False   \n",
      "1                                   False              False   \n",
      "2                                   False               True   \n",
      "3                                   False              False   \n",
      "4                                   False              False   \n",
      "\n",
      "   Location_Chennai  Location_Cochin  Location_Delhi  Location_Hyderabad  \\\n",
      "0              True            False           False               False   \n",
      "1             False            False           False               False   \n",
      "2             False            False           False               False   \n",
      "3             False            False            True               False   \n",
      "4             False            False           False               False   \n",
      "\n",
      "   Location_Mumbai  Location_Nagpur  Location_Noida  Location_Podicherry  \\\n",
      "0            False            False           False                False   \n",
      "1             True            False           False                False   \n",
      "2            False            False           False                False   \n",
      "3            False            False           False                False   \n",
      "4             True            False           False                False   \n",
      "\n",
      "   Location_Pune  \n",
      "0          False  \n",
      "1          False  \n",
      "2          False  \n",
      "3          False  \n",
      "4          False  \n"
     ]
    }
   ],
   "source": [
    "label_encoder = LabelEncoder()\n",
    "data['Gender'] = label_encoder.fit_transform(data['Gender'])\n",
    "data = pd.get_dummies(data, columns=['Organization', 'Location', 'Country'], drop_first=True)\n",
    "numeric_columns = ['Employee_Age', 'Employee_Salary']\n",
    "print(\"Data after One-Hot and Label Encoding:\")\n",
    "print(data.head())"
   ]
  },
  {
   "cell_type": "code",
   "execution_count": 344,
   "id": "45e7a217-764d-4f73-8d3e-a28438dd3474",
   "metadata": {},
   "outputs": [
    {
     "name": "stdout",
     "output_type": "stream",
     "text": [
      "Standard Scaled Data:\n",
      "   Employee_Age  Employee_Salary  Gender  Organization_Congnizant  \\\n",
      "0     -1.160646         0.000000       0                    False   \n",
      "1     -0.048650         0.000000       0                    False   \n",
      "2      0.507348        -1.264122       0                    False   \n",
      "3      1.063346        -0.967526       0                    False   \n",
      "4     -0.827047        -0.543818       0                    False   \n",
      "\n",
      "   Organization_Infosys  Organization_Infosys Pvt Lmt  Organization_TCS  \\\n",
      "0                 False                         False              True   \n",
      "1                  True                         False             False   \n",
      "2                 False                         False              True   \n",
      "3                  True                         False             False   \n",
      "4                 False                         False              True   \n",
      "\n",
      "   Organization_Tata Consultancy Services  Location_Calcutta  \\\n",
      "0                                   False              False   \n",
      "1                                   False              False   \n",
      "2                                   False               True   \n",
      "3                                   False              False   \n",
      "4                                   False              False   \n",
      "\n",
      "   Location_Chennai  Location_Cochin  Location_Delhi  Location_Hyderabad  \\\n",
      "0              True            False           False               False   \n",
      "1             False            False           False               False   \n",
      "2             False            False           False               False   \n",
      "3             False            False            True               False   \n",
      "4             False            False           False               False   \n",
      "\n",
      "   Location_Mumbai  Location_Nagpur  Location_Noida  Location_Podicherry  \\\n",
      "0            False            False           False                False   \n",
      "1             True            False           False                False   \n",
      "2            False            False           False                False   \n",
      "3            False            False           False                False   \n",
      "4             True            False           False                False   \n",
      "\n",
      "   Location_Pune  \n",
      "0          False  \n",
      "1          False  \n",
      "2          False  \n",
      "3          False  \n",
      "4          False  \n",
      "\n",
      "MinMax Scaled Data:\n",
      "   Employee_Age  Employee_Salary  Gender  Organization_Congnizant  \\\n",
      "0      0.081081         0.477350       0                    False   \n",
      "1      0.351351         0.477350       0                    False   \n",
      "2      0.486486         0.137817       0                    False   \n",
      "3      0.621622         0.217480       0                    False   \n",
      "4      0.162162         0.331285       0                    False   \n",
      "\n",
      "   Organization_Infosys  Organization_Infosys Pvt Lmt  Organization_TCS  \\\n",
      "0                 False                         False              True   \n",
      "1                  True                         False             False   \n",
      "2                 False                         False              True   \n",
      "3                  True                         False             False   \n",
      "4                 False                         False              True   \n",
      "\n",
      "   Organization_Tata Consultancy Services  Location_Calcutta  \\\n",
      "0                                   False              False   \n",
      "1                                   False              False   \n",
      "2                                   False               True   \n",
      "3                                   False              False   \n",
      "4                                   False              False   \n",
      "\n",
      "   Location_Chennai  Location_Cochin  Location_Delhi  Location_Hyderabad  \\\n",
      "0              True            False           False               False   \n",
      "1             False            False           False               False   \n",
      "2             False            False           False               False   \n",
      "3             False            False            True               False   \n",
      "4             False            False           False               False   \n",
      "\n",
      "   Location_Mumbai  Location_Nagpur  Location_Noida  Location_Podicherry  \\\n",
      "0            False            False           False                False   \n",
      "1             True            False           False                False   \n",
      "2            False            False           False                False   \n",
      "3            False            False           False                False   \n",
      "4             True            False           False                False   \n",
      "\n",
      "   Location_Pune  \n",
      "0          False  \n",
      "1          False  \n",
      "2          False  \n",
      "3          False  \n",
      "4          False  \n"
     ]
    }
   ],
   "source": [
    "numeric_columns = ['Employee_Age', 'Employee_Salary']  # Update with relevant numeric columns if different\n",
    "\n",
    "# Initialize the scalers\n",
    "standard_scaler = StandardScaler()\n",
    "minmax_scaler = MinMaxScaler()\n",
    "\n",
    "# Fit and transform the data\n",
    "data_standard_scaled = data.copy()\n",
    "data_standard_scaled[numeric_columns] = standard_scaler.fit_transform(data[numeric_columns])\n",
    "\n",
    "data_minmax_scaled = data.copy()\n",
    "data_minmax_scaled[numeric_columns] = minmax_scaler.fit_transform(data[numeric_columns])\n",
    "\n",
    "# Print the scaled data\n",
    "print(\"Standard Scaled Data:\")\n",
    "print(data_standard_scaled.head())\n",
    "\n",
    "print(\"\\nMinMax Scaled Data:\")\n",
    "print(data_minmax_scaled.head())"
   ]
  },
  {
   "cell_type": "code",
   "execution_count": null,
   "id": "5c9e5ba9-c0dc-4967-839c-112a4f893fb9",
   "metadata": {},
   "outputs": [],
   "source": []
  }
 ],
 "metadata": {
  "kernelspec": {
   "display_name": "Python 3 (ipykernel)",
   "language": "python",
   "name": "python3"
  },
  "language_info": {
   "codemirror_mode": {
    "name": "ipython",
    "version": 3
   },
   "file_extension": ".py",
   "mimetype": "text/x-python",
   "name": "python",
   "nbconvert_exporter": "python",
   "pygments_lexer": "ipython3",
   "version": "3.12.4"
  }
 },
 "nbformat": 4,
 "nbformat_minor": 5
}
